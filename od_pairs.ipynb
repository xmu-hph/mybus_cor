{
 "cells": [
  {
   "cell_type": "code",
   "execution_count": null,
   "id": "704b4148-2287-4d25-80cc-5788508099ab",
   "metadata": {},
   "outputs": [],
   "source": [
    "import pandas as pd\n",
    "import numpy as np\n",
    "import json\n",
    "import csv"
   ]
  },
  {
   "cell_type": "code",
   "execution_count": null,
   "id": "84a8bf42-14de-45cb-8526-7b4bf4555743",
   "metadata": {},
   "outputs": [],
   "source": [
    "#1.确定这几个数据都是干什么的\n",
    "swiping_card_dataframe = pd.read_csv('./bus_swiping_card_info1.csv')\n",
    "card_info_dataframe = pd.read_csv('./card_info.csv')\n",
    "bus_swip_dataframe = pd.read_excel('公交数据.xlsx',sheet_name='刷卡数据',header=0,engine='openpyxl')\n",
    "bus_station_dataframe = pd.read_excel('公交数据.xlsx',sheet_name='站点数据',header=0,engine='openpyxl')"
   ]
  },
  {
   "cell_type": "code",
   "execution_count": null,
   "id": "2ec6f7df-d5d7-48b9-8228-5f8d79f067af",
   "metadata": {},
   "outputs": [],
   "source": [
    "#swiping_card_dataframe ： 每次刷卡的信息：几号线，第几站，车辆的id，刷卡的id，刷卡的时间\n",
    "#card_info_dataframe ： 每次刷卡的信息：几号线，第几站，车辆的id，刷卡的id，刷卡的时间也是上面的信息，但是时间是去年的。\n",
    "#用去年的时间的同比数据，去预测今年的同比数据，看是否一致，如果一致，说明经济发展没有变化，如果变大，说明经济好转\n",
    "#bus_swip_dataframe ：一天的统计信息：各条线路、各个站点的刷卡数量信息\n",
    "#bus_station_dataframe ： 站点的统计信息：各个站点的经纬度"
   ]
  },
  {
   "cell_type": "code",
   "execution_count": null,
   "id": "5396def7-1670-40de-b187-a7bbfff3924e",
   "metadata": {},
   "outputs": [],
   "source": [
    "line_station_number_sequen_dataframe = \\\n",
    "bus_station_dataframe.groupby(['line_identity','station_number']).agg({'station_name':list,'station_identity':list}).reset_index()\n",
    "line_station_number_sequen_dataframe['length'] = line_station_number_sequen_dataframe['station_identity'].apply(lambda x:len(x))\n",
    "line_station_number_sequen_dataframe"
   ]
  },
  {
   "cell_type": "code",
   "execution_count": null,
   "id": "e92185ae-0d37-4f88-b131-ff48796cd782",
   "metadata": {},
   "outputs": [],
   "source": [
    "line_station_number_sequen_dataframe['id_station'] = line_station_number_sequen_dataframe.apply(lambda x:list(zip(x['station_identity'],x['station_name'])),axis=1)"
   ]
  },
  {
   "cell_type": "code",
   "execution_count": null,
   "id": "0ca27890-a03d-4252-be42-12acd9c59f4c",
   "metadata": {},
   "outputs": [],
   "source": [
    "line_station_number_sequen_dataframe"
   ]
  },
  {
   "cell_type": "code",
   "execution_count": null,
   "id": "ba25129a-3140-438e-bc05-e64e4b4989f4",
   "metadata": {},
   "outputs": [],
   "source": [
    "#获取每条线路上乘客上车站所对应的可能的下车站：估计数据量为：\n",
    "#构建一个字典：\n",
    "#road_structure = {line_id:{'stations_nums':int,'stations':{station_id:station_name},'all_stations':[]}}\n",
    "road_line_station_structure_setting={}\n",
    "for row_index in range(len(line_station_number_sequen_dataframe)):\n",
    "    line_id = line_station_number_sequen_dataframe[row_index:row_index+1]['line_identity'].values[0]\n",
    "    stations_nums = line_station_number_sequen_dataframe[row_index:row_index+1]['station_number'].values[0]\n",
    "    all_stations = line_station_number_sequen_dataframe[row_index:row_index+1]['station_name'].values[0]\n",
    "    stations={}\n",
    "    for instance in line_station_number_sequen_dataframe[row_index:row_index+1]['id_station'].values[0]:\n",
    "        instance_id = instance[0]\n",
    "        instance_name = instance[1]\n",
    "        stations[instance_id]=instance_name\n",
    "    road_line = {'stations_nums':stations_nums,'stations':stations,'all_stations':all_stations}\n",
    "    road_line_station_structure_setting[line_id] = road_line\n",
    "road_line_station_structure_setting"
   ]
  },
  {
   "cell_type": "code",
   "execution_count": null,
   "id": "5d65bd2b-0b74-4658-9a10-ce35d4f20261",
   "metadata": {},
   "outputs": [],
   "source": [
    "station_distance_rank_index_list = np.loadtxt('./station_pair_distance_rank_index.csv',delimiter=',',dtype=int)\n",
    "# 从文件中读取字典\n",
    "with open('./id_2_station.json', 'r') as file:\n",
    "    id_2_station = json.load(file)\n",
    "# 将字典保存到文件中\n",
    "with open('./station_2_id.json', 'r') as file:\n",
    "    station_2_id = json.load(file)"
   ]
  },
  {
   "cell_type": "code",
   "execution_count": null,
   "id": "94c9b6e4-c309-46a7-9d49-f805eee7e1e9",
   "metadata": {},
   "outputs": [],
   "source": [
    "#从card_info_dataframe中找出所有用户一天内的od对信息\n",
    "card_info_dataframe['custom_day'] = card_info_dataframe['custom_time'].apply(lambda x:x.split(' ')[0])\n",
    "card_info_dataframe['custom_precise_time'] = card_info_dataframe['custom_time'].apply(lambda x:x.split(' ')[1])\n",
    "#sum(card_info_dataframe['partitionday']==card_info_dataframe['custom_day'])\n",
    "#card_info_dataframe\n",
    "card_info_dataframe.drop(labels=['custom_time','card_type','consume','data_src','data_load_time','partitionday'],axis=1,inplace=True)"
   ]
  },
  {
   "cell_type": "code",
   "execution_count": null,
   "id": "41302dbf-d8fc-45e1-9044-66499d1005c0",
   "metadata": {},
   "outputs": [],
   "source": [
    "day_0929_dataframe = card_info_dataframe[card_info_dataframe['custom_day']=='2023-09-29']\n",
    "day_0929_dataframe"
   ]
  },
  {
   "cell_type": "code",
   "execution_count": null,
   "id": "7823ebb5-ac72-4fda-81f2-7b04d3dfc162",
   "metadata": {},
   "outputs": [],
   "source": [
    "#按照刷卡id进行聚合\n",
    "every_user_all_trips_dataframe = \\\n",
    "day_0929_dataframe.groupby('card_identity').agg({'custom_precise_time':list, \\\n",
    "                                                 'line_identity':list, \\\n",
    "                                                 'station_identity':list, \\\n",
    "                                                'car_identity':list},axis=1).reset_index()\n",
    "#每天承载18万人出行181190人\n",
    "#乘坐两程以上的有109927人\n",
    "#乘坐单程的极有可能是流动，也有可能是别的交通方式回。从前后相依有下一段旅程的来确定od对，对于没有后程的暂时不确定。\n",
    "every_user_all_trips_dataframe['trip_length'] = every_user_all_trips_dataframe['line_identity'].apply(lambda x:len(x))\n",
    "#every_user_all_trips_dataframe"
   ]
  },
  {
   "cell_type": "code",
   "execution_count": null,
   "id": "c8258f8a-80e0-41c6-b344-fd4efc52fe21",
   "metadata": {},
   "outputs": [],
   "source": [
    "trip_great_than_2=every_user_all_trips_dataframe[every_user_all_trips_dataframe['trip_length']!=1].reset_index(drop=True)\n",
    "#trip_great_than_2\n",
    "trip_great_than_2['trip'] = trip_great_than_2.apply(lambda x:list(zip(x['custom_precise_time'],x['line_identity'],x['station_identity'])),axis=1)\n",
    "trip_great_than_2"
   ]
  },
  {
   "cell_type": "code",
   "execution_count": null,
   "id": "de68ab24-eeb4-4307-96a6-fae93a574ee5",
   "metadata": {},
   "outputs": [],
   "source": [
    "can_used_od_trips=[]\n",
    "def find_leave_station(sorted_index_array:np.ndarray,specified_indices:list):\n",
    "    # 找到指定索引组中在排序数组中的位置\n",
    "    positions = [sorted_index_array.index(idx) for idx in specified_indices]\n",
    "    return sorted_index_array[min(positions)]\n",
    "for row_index in range(len(trip_great_than_2)):\n",
    "    trip_list = trip_great_than_2[row_index:row_index+1]['trip'].values[0]\n",
    "    sorted_trips_list = sorted(trip_list,key=lambda x:x[0],reverse=False)\n",
    "    for trip_index in range(len(sorted_trips_list)-1):\n",
    "        this_time,this_line,this_station_id = sorted_trips_list[trip_index]\n",
    "        next_time,next_line,next_station_id = sorted_trips_list[trip_index+1]\n",
    "        try:\n",
    "            this_line_station_name = road_line_station_structure_setting[this_line]['stations'][this_station_id]\n",
    "            this_line_station_id = station_2_id[this_line_station_name]\n",
    "        \n",
    "            all_possible_leave_stations = road_line_station_structure_setting[this_line]['all_stations']\n",
    "            all_possible_leave_stations_index = [station_2_id[station] for station in all_possible_leave_stations]\n",
    "        \n",
    "            next_line_station_name = road_line_station_structure_setting[next_line]['stations'][next_station_id]\n",
    "            next_line_station_id = station_2_id[next_line_station_name]\n",
    "            distance_2_next_line_station_ndarray  = station_distance_rank_index_list[next_line_station_id]\n",
    "            leave_station = find_leave_station(distance_2_next_line_station_ndarray.tolist(),all_possible_leave_stations_index)\n",
    "            od_trip = (this_line_station_id,this_time,this_line,next_line_station_id)\n",
    "            can_used_od_trips.append(od_trip)\n",
    "        except:\n",
    "            continue"
   ]
  },
  {
   "cell_type": "code",
   "execution_count": null,
   "id": "307b72b8-5eb9-4055-a536-be99eb7f36c6",
   "metadata": {},
   "outputs": [],
   "source": [
    "can_used_od_trips[0:5]\n",
    "print(id_2_station['795'],id_2_station['1416'])\n",
    "print(road_line_station_structure_setting[7]['all_stations'])\n",
    "print(bus_station_dataframe[bus_station_dataframe['line_identity']==7]['station_name'])"
   ]
  },
  {
   "cell_type": "code",
   "execution_count": null,
   "id": "c23b62a0-eb50-406e-b7e2-982a16ae18f3",
   "metadata": {},
   "outputs": [],
   "source": [
    "#将可用的od对转化为dataframe：这样就可以使用dataframe进行聚类\n",
    "#can_used_od_trips[0:5]\n",
    "can_used_od_trips_dataframe = pd.DataFrame(columns=['start_station_id','time','line','end_station_id'])\n",
    "for trip_index in range(len(can_used_od_trips)):\n",
    "    start_station_id,time,line,end_station_id=can_used_od_trips[trip_index]\n",
    "    can_used_od_trips_dataframe.loc[len(can_used_od_trips_dataframe)] = \\\n",
    "    {'start_station_id':start_station_id, \\\n",
    "                                         'time':time, \\\n",
    "                                         'line':line, \\\n",
    "                                         'end_station_id':end_station_id}"
   ]
  },
  {
   "cell_type": "code",
   "execution_count": null,
   "id": "712fdff2-a318-4120-82da-17bc754621a2",
   "metadata": {},
   "outputs": [],
   "source": [
    "len(can_used_od_trips)\n",
    "#一共有169099可以确定的od对数据"
   ]
  },
  {
   "cell_type": "code",
   "execution_count": null,
   "id": "e6ab2222-e424-43a8-a73f-6e4d96184b3a",
   "metadata": {},
   "outputs": [],
   "source": [
    "can_used_od_trips_dataframe['hour']= \\\n",
    "can_used_od_trips_dataframe['time'].apply(lambda x:x.split(':')[0])\n",
    "can_used_od_trips_dataframe['minu']= \\\n",
    "can_used_od_trips_dataframe['time'].apply(lambda x:x.split(':')[1])"
   ]
  },
  {
   "cell_type": "code",
   "execution_count": null,
   "id": "8a604311-1d5d-4297-8df0-141be870f10a",
   "metadata": {},
   "outputs": [],
   "source": [
    "can_used_od_trips_dataframe"
   ]
  },
  {
   "cell_type": "code",
   "execution_count": null,
   "id": "0ccefe0d-8d70-4041-8f12-7e18a2d3cb7a",
   "metadata": {},
   "outputs": [],
   "source": [
    "can_used_od_trips_dataframe.to_json('./can_used_od_trips_dataframe.json', orient='records')"
   ]
  }
 ],
 "metadata": {
  "kernelspec": {
   "display_name": "Python 3 (ipykernel)",
   "language": "python",
   "name": "python3"
  },
  "language_info": {
   "codemirror_mode": {
    "name": "ipython",
    "version": 3
   },
   "file_extension": ".py",
   "mimetype": "text/x-python",
   "name": "python",
   "nbconvert_exporter": "python",
   "pygments_lexer": "ipython3",
   "version": "3.11.5"
  }
 },
 "nbformat": 4,
 "nbformat_minor": 5
}
