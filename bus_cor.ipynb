{
 "cells": [
  {
   "cell_type": "code",
   "execution_count": 1,
   "id": "b207765f-3980-41cf-8f6c-e04914888e45",
   "metadata": {},
   "outputs": [
    {
     "name": "stdout",
     "output_type": "stream",
     "text": [
      "3.11.5 (main, Sep 11 2023, 13:54:46) [GCC 11.2.0] /home/thu_huph22/miniconda3/envs/sumo/bin/python\n"
     ]
    }
   ],
   "source": [
    "import sys\n",
    "print(sys.version,sys.executable)"
   ]
  },
  {
   "cell_type": "markdown",
   "id": "43b602b8-0b0c-4f9a-8545-cc2540f0bc1f",
   "metadata": {},
   "source": [
    "# 如果提示缺少环境依赖，可以使用命令进行安装\n",
    "`!pip install openpyxl`"
   ]
  },
  {
   "cell_type": "code",
   "execution_count": 2,
   "id": "e1a54e08-d220-4fec-987c-bed3d76bb69c",
   "metadata": {},
   "outputs": [],
   "source": [
    "import pandas as pd\n",
    "sheet1 = pd.read_excel('公交数据.xlsx',sheet_name='刷卡数据',header=0,engine='openpyxl')\n",
    "#线路编号\t方向\t站点编号\t站点名称\t日期\t   刷卡数量\n",
    "#1         1     1        火车站    2023-10-01  17\n",
    "#print(sheet1.head())\n",
    "\n",
    "sheet2 = pd.read_excel('公交数据.xlsx',sheet_name='站点数据',header=0,engine='openpyxl')\n",
    "#\tid\tline_identity\tline_direction\tstation_number\tstation_identity\tstation_name\tlongitude\tlatitude\n",
    "#    1      1047               1              55                 1           碧海商业广场     106.618469  26.633052\n",
    "#print(sheet2.head())"
   ]
  },
  {
   "cell_type": "markdown",
   "id": "1b87d305-0e57-46d2-96db-338baca3faba",
   "metadata": {},
   "source": [
    "# 统计公交线路的基本信息\n",
    "\n",
    "- 统计每个站点经过的线路\n",
    "1. 不同站点经过的线路数是不一样的，所有站点累计经过6480条线路，每个站点平均经过线路数为6条。来回也算的话，大概三条\n",
    "2. 暂无"
   ]
  },
  {
   "cell_type": "code",
   "execution_count": 3,
   "id": "45440c38-df4b-4a78-8600-619ed2d0e338",
   "metadata": {},
   "outputs": [],
   "source": [
    "station_line=sheet1.groupby('站点名称').agg({'线路编号':list}).reset_index()\n",
    "#站点名称       线路编号\n",
    "#(招呼站)\t  [226, 226, 228]\n",
    "#station_line.head()\n",
    "#print(len(station_line))#1138\n",
    "#实际经过了1138个站点，其中还有三个是站点表里面没有的。站点表里有1449个站点，加上这三个不在的站点。一共有1452个站点，\n",
    "station_line['lines'] = station_line.apply(lambda x : len(x['线路编号']),axis=1)\n",
    "#站点名称         线路编号           lines\n",
    "#(招呼站)\t  [226, 226, 228]          3\n",
    "#print(sum(station_line['lines']))#6480"
   ]
  },
  {
   "cell_type": "markdown",
   "id": "acaf3b50-0969-4b7a-a8ca-eb0fd3a09897",
   "metadata": {},
   "source": [
    "- 把所有的站点统计为字典，分为名字-id和id-名字两个映射\n",
    "- 统计一下各条线路经过的站点量\n",
    "1. 每条线路平均经过的站点数为：31.92.（因为贵阳的公交往返路线很多是不一致的，所以从起点到起点这个圈上所有经过的站点）\n",
    "2. 线路总数为203条，线路经过的站点总数为6480，平均每条线路的站点数为：31.92站。（一圈）\n"
   ]
  },
  {
   "cell_type": "code",
   "execution_count": 4,
   "id": "cf328a2e-2518-4131-bf7f-81fc7186a5f4",
   "metadata": {},
   "outputs": [
    {
     "name": "stdout",
     "output_type": "stream",
     "text": [
      "station to id done\n",
      "id to station done\n"
     ]
    }
   ],
   "source": [
    "#处理已知站点，不用地理位置信息，只根据流入流出确定\n",
    "temp_station=sheet2.groupby('station_name').agg({'id':list}).reset_index()\n",
    "# station_name                           id\n",
    "#  (招呼站)             [7304, 7308, 7317, 7321, 10728, 10760]\n",
    "#print(temp_station.head())\n",
    "#把已知的站点信息统计一下\n",
    "station_id={}\n",
    "#station_name : id \n",
    "#(招呼站)     -> 0\n",
    "for i in range(len(temp_station)):\n",
    "    station_id[temp_station[i:i+1]['station_name'].values[0]]=i\n",
    "\n",
    "print(\"station to id done\")\n",
    "#for key in station_id.keys():\n",
    "#    print(key,'->',station_id[key])\n",
    "#    break\n",
    "id_station={}\n",
    "#id -> station\n",
    "#0 -> (招呼站)\n",
    "for key,value in station_id.items():\n",
    "    id_station[value]=key\n",
    "print(\"id to station done\")\n",
    "#for key in id_station.keys():\n",
    "#    print(key,'->',id_station[key])\n",
    "#    break\n",
    "\n",
    "#输出已知站点总数\n",
    "#print(len(temp_station))#1449\n",
    "\n",
    "line_station=sheet1.groupby('线路编号').agg({'站点名称':list}).reset_index()\n",
    "#线路编号                        站点名称\n",
    "#1         [火车站, 展览馆, 新路口, 邮电大楼, 大十字, 喷水池, 云中广场, 六广门, 北京路...\n",
    "#print(line_station.head())\n",
    "line_station['sites']=line_station.apply(lambda x:len(x['站点名称']),axis=1)\n",
    "#线路编号                               站点名称                                       站点量\n",
    "#1          [火车站, 展览馆, 新路口, 邮电大楼, 大十字, 喷水池, 云中广场, 六广门, 北京路...     18\n",
    "#print(line_station.head())\n",
    "#print(len(line_station))#203\n",
    "#给每条线路上的每个站点一个编号\n",
    "#print(sum(temp_line['sites']))#6480"
   ]
  },
  {
   "cell_type": "markdown",
   "id": "6868e7c7-cb72-4967-be34-5be4828172ed",
   "metadata": {},
   "source": [
    "- 把站点字典扩充一下，把实际节点中有的但是节点列表中没有的添加进去。\n",
    "\n",
    "1. 实际线路一共有203条，实际节点1138个，站点列表中一共有1449个，其中有三个没涵盖。\n",
    "2. 从线路上看总站点数为6480，而实际站点数只有1138.所以很多线路会有交叉，平均每个站点重用了6次，平均每条线路有31.92个站点。\n",
    "3. 添加后的节点数为1452"
   ]
  },
  {
   "cell_type": "code",
   "execution_count": 5,
   "id": "a1cf4d9b-1375-4e01-b3f3-556a24245c26",
   "metadata": {},
   "outputs": [],
   "source": [
    "#补充站点列表不包含的站点编号\n",
    "not_contain= sheet1[~ sheet1['站点名称'].isin(station_id.keys())]\n",
    "not_contain_station = not_contain.groupby('站点名称').agg({'刷卡数量':list}).reset_index()\n",
    "for i in range(len(not_contain_station)):\n",
    "    id_station[len(station_id)]=not_contain_station[i:i+1]['站点名称'].values[0]\n",
    "    station_id[not_contain_station[i:i+1]['站点名称'].values[0]]=len(station_id)\n",
    "#print(len(id_station))#1452\n"
   ]
  },
  {
   "cell_type": "markdown",
   "id": "19be5f1e-6488-49a2-9caa-ca9386c2c956",
   "metadata": {},
   "source": [
    "- 根据我们要构造的图的形式：节点和边（节点表示站点，同时由于两个站点之间可能有多条线路，为了区分线路，所以加上虚拟的线路站点。）\n",
    "- 把公交的线路数据构造称为此站点，下站点，上车人数的形式。\n",
    "- 然后对于每条此站点，下站点数据，做三项工作：1.向节点表中添加新的虚拟中间站点；2.同时创建邻接矩阵并添加两项，一项是起点到中转节点，另一项是中转到目标节点\n",
    "- 3.在节点列表扩充完毕后，我们需要设计节点的特征，就用在各个节点的上车数据来表示：\n",
    "- 边用节点特征表示，走什么线路，所以是稀疏矩阵不假，但是有些太大了，不过稀疏矩阵应该也好表示"
   ]
  },
  {
   "cell_type": "code",
   "execution_count": 6,
   "id": "5431e28a-df98-4345-bce0-a82746d0ae12",
   "metadata": {},
   "outputs": [
    {
     "name": "stdout",
     "output_type": "stream",
     "text": [
      "dict done\n",
      "dataframe done\n"
     ]
    }
   ],
   "source": [
    "#先按照此站下一站的关系聚个类\n",
    "#统计一下线路-id-（站点，数量）的字典，构造为字典方便索引\n",
    "#print(sheet1[sheet1['线路编号']==1])\n",
    "#线路编号\t方向\t站点编号\t站点名称\t    日期\t    刷卡数量\n",
    "#1          1     1        火车站       2023-10-01    17\n",
    "line_seq_stat_nums={}\n",
    "for _ in range(len(sheet1)):\n",
    "    line = sheet1[_:_+1]['线路编号'].values[0]\n",
    "    sequence = sheet1[_:_+1]['站点编号'].values[0]\n",
    "    station = sheet1[_:_+1]['站点名称'].values[0]\n",
    "    nums = sheet1[_:_+1]['刷卡数量'].values[0]\n",
    "    direction = sheet1[_:_+1]['方向'].values[0]\n",
    "    if line not in line_seq_stat_nums:\n",
    "        temp={sequence:(station,nums,direction)}\n",
    "        line_seq_stat_nums[line]=temp\n",
    "        continue\n",
    "    if sequence not in line_seq_stat_nums[line]:\n",
    "        line_seq_stat_nums[line][sequence]=(station,nums,direction)\n",
    "        continue\n",
    "#字典结构:{线路编号：{站点编号：(站点名称，刷卡数量，方向)}}\n",
    "print(\"dict done\")\n",
    "#形成一个新的dataframe，结构为：[此站，下站，线路，刷卡数]\n",
    "#可以使用join来构造，但是数据有问题，站点编号是不连续的，只能一行一行读取\n",
    "this_next_line_nums=pd.DataFrame(columns=['此站','下站','线路','上车数量','此站编号','下站编号','单程终点'])\n",
    "for line in line_seq_stat_nums.keys():\n",
    "    sequen = list(line_seq_stat_nums[line].keys())\n",
    "    sequen.sort()\n",
    "    for index in range(len(sequen)):\n",
    "        ll = {'此站':line_seq_stat_nums[line][sequen[index]][0],'下站':line_seq_stat_nums[line][sequen[(index+1)%len(sequen)]][0],'线路':line,'上车数量':line_seq_stat_nums[line][sequen[index]][1],'此站编号':sequen[index],'下站编号':sequen[(index+1)%len(sequen)],'单程终点':0 if line_seq_stat_nums[line][sequen[(index+1)%len(sequen)]][2]!=line_seq_stat_nums[line][sequen[index]][2] else 1}\n",
    "        ##print(ll)\n",
    "        #this_next_line_nums.append(ll,ignore_index=True)\n",
    "        this_next_line_nums.loc[len(this_next_line_nums)]=ll\n",
    "print(\"dataframe done\")\n",
    "#此站          下站    线路   上车数量  此站编号 下站编号 单程终点\n",
    "#火车站       展览馆     1      17        1       2      1\n",
    "#展览馆       新路口     1      318       2       3      1\n",
    "#北京西路口  黔灵山公园   1      582       10      12      0\n",
    "#print(this_next_line_nums[this_next_line_nums['线路']==1])"
   ]
  },
  {
   "cell_type": "markdown",
   "id": "d8595836-dda1-4954-a329-41173dd866ae",
   "metadata": {},
   "source": [
    "- 读取每行数据向站点列表中添加新站值，包括站点到id和id到站点，并创建一个邻接矩阵按行添加，起点终点\n",
    "- 构造一个数据帧，重新记录一下从起点站去虚拟站的上车乘客量\n"
   ]
  },
  {
   "cell_type": "code",
   "execution_count": 7,
   "id": "4234a493-6fdd-4e51-9669-71f79f3a525d",
   "metadata": {},
   "outputs": [
    {
     "name": "stdout",
     "output_type": "stream",
     "text": [
      "7932\n"
     ]
    }
   ],
   "source": [
    "neighbor_matrix=[]\n",
    "#[[start,end]]\n",
    "#[[7495,2348]]\n",
    "this_middle_nums={}\n",
    "#{'start':{'end':nums}}\n",
    "#{'火车站': {'火车站_1_1_2_展览馆': 17}}\n",
    "for row_index in range(len(this_next_line_nums)):\n",
    "    line = this_next_line_nums[row_index:row_index+1]\n",
    "    this_station=line['此站'].values[0]\n",
    "    next_station=line['下站'].values[0]\n",
    "    virtual_station=line['此站'].values[0]+'_'+str(line['此站编号'].values[0])+'_'+str(line['线路'].values[0])+'_'+str(line['下站编号'].values[0])+'_'+line['下站'].values[0]\n",
    "    #station_id={}\n",
    "    #station_name : id \n",
    "    #(招呼站)     -> 0\n",
    "    #id_station={}\n",
    "    #id -> station\n",
    "    #0 -> (招呼站)\n",
    "    if virtual_station not in station_id:\n",
    "        id_station[len(station_id)]=virtual_station\n",
    "        station_id[virtual_station]=len(station_id)\n",
    "    neighbor_matrix.append([station_id[this_station],station_id[virtual_station]])\n",
    "    neighbor_matrix.append([station_id[virtual_station],station_id[next_station]])\n",
    "    if this_station not in this_middle_nums:\n",
    "        this_middle_nums[this_station]={virtual_station:line['上车数量'].values[0]}\n",
    "    else:\n",
    "        this_middle_nums[this_station][virtual_station]=line['上车数量'].values[0]\n",
    "#这样子我们既有了邻接矩阵，也有了实际的上车数量\n",
    "print(len(station_id))"
   ]
  },
  {
   "cell_type": "markdown",
   "id": "1d0045b1-1567-495c-93a2-6720e9128ed5",
   "metadata": {},
   "source": [
    "- 上面的行运行完应该有了很多个新增虚拟站点，邻接矩阵不需要修改已经是准确的了，\n",
    "- 但是站点的特征由于之前不知道有多少节点，所以站点特征不好写，但是现在可以解决了。"
   ]
  },
  {
   "cell_type": "code",
   "execution_count": 8,
   "id": "4bafbdf2-d554-4fcb-8056-5e0ee82c5786",
   "metadata": {},
   "outputs": [],
   "source": [
    "import numpy as np\n",
    "station_features=np.zeros((len(station_id),len(station_id)),dtype=np.float64)\n",
    "for i in range(len(station_id)):\n",
    "    if id_station[i] in this_middle_nums:\n",
    "        for middle in this_middle_nums[id_station[i]]:\n",
    "            station_features[i,station_id[middle]]=float(this_middle_nums[id_station[i]][middle])#设置稀疏矩阵的第几行第几列为需要的值。\n",
    "    else:\n",
    "        continue"
   ]
  },
  {
   "cell_type": "markdown",
   "id": "e787bca4-05fb-45bc-9b82-639910b3d94e",
   "metadata": {},
   "source": [
    "- 节点的特征都已经提取出来了，我们可以搭建模型了\n",
    "- 损失函数还没构建呢，需要做一下损失函数的定义"
   ]
  },
  {
   "cell_type": "code",
   "execution_count": 9,
   "id": "90367680-6f5a-4336-940e-ffe59e3a51c9",
   "metadata": {},
   "outputs": [],
   "source": [
    "#定义损失函数\n",
    "def loss(predict_matrix,true_matrix):\n",
    "    #预测矩阵中每一行流出的量求和应该等于实际流量中流入的量\n",
    "    #row_sum = predict_matrix.sum(axis=0)\n",
    "    #temp = predict_matrix+true_matrix\n",
    "    #column_sum = temp.sum(axis=1)\n",
    "    #temploss = sum((row_sum-column_sum)**2)/len(row_sum)\n",
    "    \n",
    "    temp = predict_matrix\n",
    "    column_sum = temp.sum(axis=1)\n",
    "    row_sum = true_matrix.sum(axis=0)\n",
    "    temploss = (sum((row_sum-column_sum)**2)+sum((temp.sum(axis=1)-temp.sum(axis=0))**2))/len(row_sum)\n",
    "    return temploss"
   ]
  },
  {
   "cell_type": "code",
   "execution_count": 10,
   "id": "f51f31db-800e-40b1-b7ee-6f33e1baf975",
   "metadata": {
    "scrolled": true
   },
   "outputs": [
    {
     "name": "stderr",
     "output_type": "stream",
     "text": [
      "/home/thu_huph22/miniconda3/envs/sumo/lib/python3.11/site-packages/tqdm/auto.py:21: TqdmWarning: IProgress not found. Please update jupyter and ipywidgets. See https://ipywidgets.readthedocs.io/en/stable/user_install.html\n",
      "  from .autonotebook import tqdm as notebook_tqdm\n"
     ]
    }
   ],
   "source": [
    "#定义神经网络模型\n",
    "import torch\n",
    "import torch.nn.functional as F\n",
    "from torch_geometric.nn import GCNConv\n",
    "\n",
    "from torch_geometric.data import Data\n",
    "edge_index = torch.tensor(neighbor_matrix,dtype=torch.int64)\n",
    "x=torch.as_tensor(station_features, dtype=torch.float)\n",
    "data=Data(x=x,edge_index=edge_index.t().contiguous())"
   ]
  },
  {
   "cell_type": "code",
   "execution_count": 12,
   "id": "ecdf85ad-3244-45ca-bdd4-6f661349b3d3",
   "metadata": {
    "collapsed": true,
    "jupyter": {
     "outputs_hidden": true
    }
   },
   "outputs": [
    {
     "name": "stdout",
     "output_type": "stream",
     "text": [
      "epoch:0,loss:95856.0703125\n",
      "epoch:20,loss:4096.087890625\n",
      "epoch:40,loss:3988.4462890625\n",
      "epoch:60,loss:3916.717529296875\n",
      "epoch:80,loss:3883.086181640625\n",
      "epoch:100,loss:3872.469970703125\n",
      "epoch:120,loss:3861.813720703125\n",
      "epoch:140,loss:3856.8037109375\n",
      "epoch:160,loss:3849.549072265625\n",
      "epoch:180,loss:3842.908447265625\n",
      "epoch:200,loss:3837.7197265625\n",
      "epoch:220,loss:3833.560791015625\n",
      "epoch:240,loss:3830.197021484375\n",
      "epoch:260,loss:3827.136474609375\n",
      "epoch:280,loss:3823.25\n",
      "epoch:300,loss:3820.604736328125\n",
      "epoch:320,loss:3815.631103515625\n",
      "epoch:340,loss:3812.577392578125\n",
      "epoch:360,loss:3808.424560546875\n",
      "epoch:380,loss:3804.647216796875\n",
      "epoch:400,loss:3803.555908203125\n",
      "epoch:420,loss:3803.827880859375\n",
      "epoch:440,loss:3800.12353515625\n",
      "epoch:460,loss:3796.8017578125\n",
      "epoch:480,loss:3794.501220703125\n",
      "epoch:500,loss:3792.3359375\n",
      "epoch:520,loss:3789.76806640625\n",
      "epoch:540,loss:3787.336669921875\n",
      "epoch:560,loss:3785.816650390625\n",
      "epoch:580,loss:3785.920166015625\n",
      "epoch:600,loss:3778.301025390625\n",
      "epoch:620,loss:3777.17041015625\n",
      "epoch:640,loss:3776.260986328125\n",
      "epoch:660,loss:3776.106689453125\n",
      "epoch:680,loss:3776.912841796875\n",
      "epoch:700,loss:3774.637939453125\n",
      "epoch:720,loss:3773.96728515625\n",
      "epoch:740,loss:3772.855224609375\n",
      "epoch:760,loss:3773.112548828125\n",
      "epoch:780,loss:3769.668701171875\n",
      "epoch:800,loss:3768.83837890625\n",
      "epoch:820,loss:3766.844482421875\n",
      "epoch:840,loss:3766.075927734375\n",
      "epoch:860,loss:3765.2470703125\n",
      "epoch:880,loss:3764.67236328125\n",
      "epoch:900,loss:3764.232421875\n",
      "epoch:920,loss:3763.165283203125\n",
      "epoch:940,loss:3762.66845703125\n",
      "epoch:960,loss:3761.81689453125\n",
      "epoch:980,loss:3764.727783203125\n",
      "epoch:1000,loss:3757.44384765625\n",
      "epoch:1020,loss:3756.394775390625\n",
      "epoch:1040,loss:3755.863525390625\n",
      "epoch:1060,loss:3783.993896484375\n",
      "epoch:1080,loss:3771.32275390625\n",
      "epoch:1100,loss:3771.3427734375\n",
      "epoch:1120,loss:3763.739501953125\n",
      "epoch:1140,loss:3765.357177734375\n",
      "epoch:1160,loss:3760.912109375\n",
      "epoch:1180,loss:3780.552978515625\n",
      "epoch:1200,loss:3765.238525390625\n",
      "epoch:1220,loss:3759.12353515625\n",
      "epoch:1240,loss:3753.904296875\n",
      "epoch:1260,loss:3753.59423828125\n",
      "epoch:1280,loss:3960.130126953125\n",
      "epoch:1300,loss:3914.326171875\n",
      "epoch:1320,loss:3882.025634765625\n",
      "epoch:1340,loss:3839.066162109375\n",
      "epoch:1360,loss:3830.34814453125\n",
      "epoch:1380,loss:3823.24609375\n",
      "epoch:1400,loss:3820.6044921875\n",
      "epoch:1420,loss:3819.3662109375\n",
      "epoch:1440,loss:3818.781982421875\n",
      "epoch:1460,loss:4204.619140625\n",
      "epoch:1480,loss:4188.2978515625\n",
      "epoch:1500,loss:4071.37353515625\n",
      "epoch:1520,loss:3994.068603515625\n",
      "epoch:1540,loss:3977.664306640625\n",
      "epoch:1560,loss:3966.927490234375\n",
      "epoch:1580,loss:3962.44921875\n",
      "epoch:1600,loss:4025.80224609375\n",
      "epoch:1620,loss:3984.7412109375\n",
      "epoch:1640,loss:3975.654052734375\n",
      "epoch:1660,loss:3971.7734375\n",
      "epoch:1680,loss:3968.260498046875\n",
      "epoch:1700,loss:3964.8818359375\n",
      "epoch:1720,loss:3968.37451171875\n",
      "epoch:1740,loss:3956.7158203125\n",
      "epoch:1760,loss:3953.429443359375\n",
      "epoch:1780,loss:3951.652099609375\n",
      "epoch:1800,loss:3947.5517578125\n",
      "epoch:1820,loss:3944.636474609375\n",
      "epoch:1840,loss:3943.9287109375\n",
      "epoch:1860,loss:3942.54638671875\n",
      "epoch:1880,loss:3940.233642578125\n",
      "epoch:1900,loss:3939.23974609375\n",
      "epoch:1920,loss:3936.671142578125\n",
      "epoch:1940,loss:3935.46923828125\n",
      "epoch:1960,loss:3935.8740234375\n",
      "epoch:1980,loss:3936.1357421875\n"
     ]
    }
   ],
   "source": [
    "#网络定义\n",
    "class Net(torch.nn.Module):\n",
    "    def __init__(self):\n",
    "        super(Net, self).__init__()\n",
    "        self.conv1 = GCNConv(len(station_features[0]), 452)\n",
    "        self.conv2 = GCNConv(452, 452)\n",
    "        self.conv3 = GCNConv(452,len(station_features[0]))\n",
    "\n",
    "    def forward(self, data):\n",
    "        x, edge_index = data.x, data.edge_index\n",
    "        #print(x,edge_index)\n",
    "        x = self.conv1(x=x, edge_index=edge_index)\n",
    "        x = F.relu(x)\n",
    "        x = self.conv2(x=x, edge_index=edge_index)\n",
    "        x = F.relu(x)\n",
    "        #x = F.dropout(x, training=self.training)\n",
    "        x = self.conv3(x=x, edge_index=edge_index)\n",
    "        x = F.relu(x)\n",
    "        return x\n",
    "\n",
    "device = torch.device('cuda' if torch.cuda.is_available() else 'cpu')\n",
    "model = Net().to(device)\n",
    "data = data.to(device)\n",
    "optimizer = torch.optim.Adam(model.parameters(), lr=0.01, weight_decay=5e-4)\n",
    "\n",
    "#网络训练\n",
    "model.train()\n",
    "for epoch in range(2000):\n",
    "    optimizer.zero_grad()\n",
    "    out = model(data)\n",
    "    #print(out,'\\n',out.shape)\n",
    "    loss_ = loss(out,data.x)\n",
    "    loss_.backward()\n",
    "    optimizer.step()\n",
    "    if epoch%20==0:\n",
    "        print(f\"epoch:{epoch},loss:{loss_}\")\n"
   ]
  },
  {
   "cell_type": "code",
   "execution_count": 13,
   "id": "4077fa7a-32fb-4559-a0e9-9dd9f2599e57",
   "metadata": {},
   "outputs": [
    {
     "name": "stdout",
     "output_type": "stream",
     "text": [
      "tensor(32503.5312, device='cuda:0', grad_fn=<AddBackward0>)\n",
      "tensor(32503.1719, device='cuda:0', grad_fn=<AddBackward0>)\n",
      "6480\n"
     ]
    }
   ],
   "source": [
    "print(sum(out.sum(axis=0)))\n",
    "print(sum(out.sum(axis=1)))\n",
    "print(len(out[x!=0]))\n"
   ]
  },
  {
   "cell_type": "code",
   "execution_count": 89,
   "id": "39ccf9b1-9776-4fd9-9a59-19939d8111ab",
   "metadata": {},
   "outputs": [],
   "source": [
    "#定义损失函数\n",
    "def newloss(predict_matrix,true_matrix):\n",
    "    #预测矩阵中每一行流出的量求和应该等于实际流量中流入的量\n",
    "    #row_sum = predict_matrix.sum(axis=0)\n",
    "    temp = predict_matrix+true_matrix\n",
    "    row_sum = temp.sum(axis=0)\n",
    "    column_sum = temp.sum(axis=1)\n",
    "    print(\"每个节点流出的量\",row_sum,'\\n',\"每个节点流入的量\",column_sum)\n",
    "    loss = sum((row_sum-column_sum)**2)/len(row_sum)\n",
    "    print(loss)"
   ]
  },
  {
   "cell_type": "code",
   "execution_count": 90,
   "id": "988ac8c4-1bbc-40f3-b460-c245f8055874",
   "metadata": {},
   "outputs": [
    {
     "name": "stdout",
     "output_type": "stream",
     "text": [
      "每个节点流出的量 tensor([ 0.0000, 78.3572,  0.0000,  ...,  1.0000,  9.0609,  1.0000],\n",
      "       device='cuda:0', grad_fn=<SumBackward1>) \n",
      " 每个节点流入的量 tensor([ 19.4564,  69.3199, 404.6872,  ...,  16.6872,  16.6872,  16.6872],\n",
      "       device='cuda:0', grad_fn=<SumBackward1>)\n",
      "tensor(4987.1382, device='cuda:0', grad_fn=<DivBackward0>)\n"
     ]
    }
   ],
   "source": [
    "#从节点流出的量\n",
    "newloss(out,x.to(device))\n",
    "#从节点流入的量"
   ]
  },
  {
   "cell_type": "markdown",
   "id": "008a67d9-46c2-484e-9632-167f97247d89",
   "metadata": {},
   "source": [
    "# 可视化图结构"
   ]
  },
  {
   "cell_type": "code",
   "execution_count": 13,
   "id": "3648e8c9-d6b3-4fd2-902c-38f93278dced",
   "metadata": {},
   "outputs": [
    {
     "data": {
      "image/png": "[encoded data removed]",
      "text/plain": [
       "<Figure size 640x480 with 1 Axes>"
      ]
     },
     "metadata": {},
     "output_type": "display_data"
    }
   ],
   "source": [
    "import matplotlib.pyplot as plt\n",
    "from torch_geometric.datasets import Planetoid\n",
    "import networkx as nx\n",
    "import torch_geometric\n",
    "g = torch_geometric.utils.to_networkx(data,to_undirected=False)\n",
    "nx.draw(g,node_size=2)\n",
    "plt.show()"
   ]
  },
  {
   "cell_type": "code",
   "execution_count": 11,
   "id": "367a9a73-d75c-4533-b831-ceeb924ae7a0",
   "metadata": {},
   "outputs": [
    {
     "data": {
      "text/html": [
       "<div>\n",
       "<style scoped>\n",
       "    .dataframe tbody tr th:only-of-type {\n",
       "        vertical-align: middle;\n",
       "    }\n",
       "\n",
       "    .dataframe tbody tr th {\n",
       "        vertical-align: top;\n",
       "    }\n",
       "\n",
       "    .dataframe thead th {\n",
       "        text-align: right;\n",
       "    }\n",
       "</style>\n",
       "<table border=\"1\" class=\"dataframe\">\n",
       "  <thead>\n",
       "    <tr style=\"text-align: right;\">\n",
       "      <th></th>\n",
       "      <th>此站</th>\n",
       "      <th>下站</th>\n",
       "      <th>上车数量</th>\n",
       "      <th>线路</th>\n",
       "      <th>此站编号</th>\n",
       "      <th>下站编号</th>\n",
       "    </tr>\n",
       "  </thead>\n",
       "  <tbody>\n",
       "    <tr>\n",
       "      <th>0</th>\n",
       "      <td>(招呼站)</td>\n",
       "      <td>[113厂小区, 干井, 金华村]</td>\n",
       "      <td>[1, 1, 12]</td>\n",
       "      <td>[226, 226, 228]</td>\n",
       "      <td>[29, 33, 16]</td>\n",
       "      <td>[30, 34, 18]</td>\n",
       "    </tr>\n",
       "    <tr>\n",
       "      <th>1</th>\n",
       "      <td>113厂小区</td>\n",
       "      <td>[蒿机厂, 金华村, 悦城路口, 园区1号路]</td>\n",
       "      <td>[1, 7, 2, 54]</td>\n",
       "      <td>[226, 226, 227, 228]</td>\n",
       "      <td>[19, 30, 22, 19]</td>\n",
       "      <td>[25, 31, 25, 21]</td>\n",
       "    </tr>\n",
       "    <tr>\n",
       "      <th>2</th>\n",
       "      <td>117地质队</td>\n",
       "      <td>[温泉路口, 臣功路口, 温泉路口, 肉联厂, 万江机电, 温泉路口, 创业路, 温泉路口,...</td>\n",
       "      <td>[72, 7, 64, 21, 14, 25, 11, 121, 33, 20]</td>\n",
       "      <td>[56, 56, 234, 234, 246, 246, 252, 253, 253, 258]</td>\n",
       "      <td>[15, 51, 5, 31, 29, 38, 14, 6, 51, 14]</td>\n",
       "      <td>[16, 53, 6, 32, 31, 39, 15, 7, 52, 15]</td>\n",
       "    </tr>\n",
       "    <tr>\n",
       "      <th>3</th>\n",
       "      <td>501厂宿舍区</td>\n",
       "      <td>[北衙村, 红边路口]</td>\n",
       "      <td>[15, 3]</td>\n",
       "      <td>[605, 605]</td>\n",
       "      <td>[20, 29]</td>\n",
       "      <td>[21, 30]</td>\n",
       "    </tr>\n",
       "    <tr>\n",
       "      <th>4</th>\n",
       "      <td>〇八三厂</td>\n",
       "      <td>[旌德广场, 〇八三厂, 万江机电, 旌德广场, 景云山]</td>\n",
       "      <td>[4, 11, 2, 294, 7]</td>\n",
       "      <td>[234, 246, 246, 253, 253]</td>\n",
       "      <td>[1, 33, 34, 2, 55]</td>\n",
       "      <td>[2, 34, 36, 3, 1]</td>\n",
       "    </tr>\n",
       "    <tr>\n",
       "      <th>...</th>\n",
       "      <td>...</td>\n",
       "      <td>...</td>\n",
       "      <td>...</td>\n",
       "      <td>...</td>\n",
       "      <td>...</td>\n",
       "      <td>...</td>\n",
       "    </tr>\n",
       "    <tr>\n",
       "      <th>1133</th>\n",
       "      <td>龙腾路(西)</td>\n",
       "      <td>[棋苑街口]</td>\n",
       "      <td>[5]</td>\n",
       "      <td>[750]</td>\n",
       "      <td>[22]</td>\n",
       "      <td>[23]</td>\n",
       "    </tr>\n",
       "    <tr>\n",
       "      <th>1134</th>\n",
       "      <td>龙腾路东</td>\n",
       "      <td>[双龙管委会, 兴业西路中, 市委党校, 双龙管委会, 轨道云盘站]</td>\n",
       "      <td>[78, 64, 2, 51, 26]</td>\n",
       "      <td>[46, 87, 216, 245, 811]</td>\n",
       "      <td>[4, 2, 8, 20, 2]</td>\n",
       "      <td>[5, 3, 10, 21, 3]</td>\n",
       "    </tr>\n",
       "    <tr>\n",
       "      <th>1135</th>\n",
       "      <td>龙腾路口</td>\n",
       "      <td>[白腊山农场]</td>\n",
       "      <td>[1]</td>\n",
       "      <td>[805]</td>\n",
       "      <td>[3]</td>\n",
       "      <td>[5]</td>\n",
       "    </tr>\n",
       "    <tr>\n",
       "      <th>1136</th>\n",
       "      <td>龙里中学</td>\n",
       "      <td>[双龙路]</td>\n",
       "      <td>[6]</td>\n",
       "      <td>[803]</td>\n",
       "      <td>[21]</td>\n",
       "      <td>[24]</td>\n",
       "    </tr>\n",
       "    <tr>\n",
       "      <th>1137</th>\n",
       "      <td>龚家寨</td>\n",
       "      <td>[刚玉街, 海马洞路口, 刚玉街, 云环中路, 云环东路口, 刚玉街, 沙文科技园, 刚玉街]</td>\n",
       "      <td>[20, 1, 43, 41, 15, 3, 3, 42]</td>\n",
       "      <td>[66, 66, 232, 232, 256, 256, 257, 1027]</td>\n",
       "      <td>[5, 44, 2, 33, 25, 38, 17, 37]</td>\n",
       "      <td>[6, 46, 3, 34, 26, 39, 21, 38]</td>\n",
       "    </tr>\n",
       "  </tbody>\n",
       "</table>\n",
       "<p>1138 rows × 6 columns</p>\n",
       "</div>"
      ],
      "text/plain": [
       "           此站                                                 下站  \\\n",
       "0       (招呼站)                                  [113厂小区, 干井, 金华村]   \n",
       "1      113厂小区                            [蒿机厂, 金华村, 悦城路口, 园区1号路]   \n",
       "2      117地质队  [温泉路口, 臣功路口, 温泉路口, 肉联厂, 万江机电, 温泉路口, 创业路, 温泉路口,...   \n",
       "3     501厂宿舍区                                        [北衙村, 红边路口]   \n",
       "4        〇八三厂                      [旌德广场, 〇八三厂, 万江机电, 旌德广场, 景云山]   \n",
       "...       ...                                                ...   \n",
       "1133   龙腾路(西)                                             [棋苑街口]   \n",
       "1134     龙腾路东                 [双龙管委会, 兴业西路中, 市委党校, 双龙管委会, 轨道云盘站]   \n",
       "1135     龙腾路口                                            [白腊山农场]   \n",
       "1136     龙里中学                                              [双龙路]   \n",
       "1137      龚家寨    [刚玉街, 海马洞路口, 刚玉街, 云环中路, 云环东路口, 刚玉街, 沙文科技园, 刚玉街]   \n",
       "\n",
       "                                          上车数量  \\\n",
       "0                                   [1, 1, 12]   \n",
       "1                                [1, 7, 2, 54]   \n",
       "2     [72, 7, 64, 21, 14, 25, 11, 121, 33, 20]   \n",
       "3                                      [15, 3]   \n",
       "4                           [4, 11, 2, 294, 7]   \n",
       "...                                        ...   \n",
       "1133                                       [5]   \n",
       "1134                       [78, 64, 2, 51, 26]   \n",
       "1135                                       [1]   \n",
       "1136                                       [6]   \n",
       "1137             [20, 1, 43, 41, 15, 3, 3, 42]   \n",
       "\n",
       "                                                    线路  \\\n",
       "0                                      [226, 226, 228]   \n",
       "1                                 [226, 226, 227, 228]   \n",
       "2     [56, 56, 234, 234, 246, 246, 252, 253, 253, 258]   \n",
       "3                                           [605, 605]   \n",
       "4                            [234, 246, 246, 253, 253]   \n",
       "...                                                ...   \n",
       "1133                                             [750]   \n",
       "1134                           [46, 87, 216, 245, 811]   \n",
       "1135                                             [805]   \n",
       "1136                                             [803]   \n",
       "1137           [66, 66, 232, 232, 256, 256, 257, 1027]   \n",
       "\n",
       "                                        此站编号  \\\n",
       "0                               [29, 33, 16]   \n",
       "1                           [19, 30, 22, 19]   \n",
       "2     [15, 51, 5, 31, 29, 38, 14, 6, 51, 14]   \n",
       "3                                   [20, 29]   \n",
       "4                         [1, 33, 34, 2, 55]   \n",
       "...                                      ...   \n",
       "1133                                    [22]   \n",
       "1134                        [4, 2, 8, 20, 2]   \n",
       "1135                                     [3]   \n",
       "1136                                    [21]   \n",
       "1137          [5, 44, 2, 33, 25, 38, 17, 37]   \n",
       "\n",
       "                                        下站编号  \n",
       "0                               [30, 34, 18]  \n",
       "1                           [25, 31, 25, 21]  \n",
       "2     [16, 53, 6, 32, 31, 39, 15, 7, 52, 15]  \n",
       "3                                   [21, 30]  \n",
       "4                          [2, 34, 36, 3, 1]  \n",
       "...                                      ...  \n",
       "1133                                    [23]  \n",
       "1134                       [5, 3, 10, 21, 3]  \n",
       "1135                                     [5]  \n",
       "1136                                    [24]  \n",
       "1137          [6, 46, 3, 34, 26, 39, 21, 38]  \n",
       "\n",
       "[1138 rows x 6 columns]"
      ]
     },
     "execution_count": 11,
     "metadata": {},
     "output_type": "execute_result"
    }
   ],
   "source": [
    "#统计下车数据\n",
    "station_out = this_next_line_nums.groupby('此站').agg({'下站':list,'上车数量':list,'线路':list,'此站编号':list,'下站编号':list}).reset_index()\n",
    "station_out"
   ]
  },
  {
   "cell_type": "code",
   "execution_count": 12,
   "id": "5292d58d-8aff-4509-8f2f-3ca38a731797",
   "metadata": {},
   "outputs": [
    {
     "data": {
      "text/plain": [
       "7618"
      ]
     },
     "execution_count": 12,
     "metadata": {},
     "output_type": "execute_result"
    }
   ],
   "source": [
    "#统计图中有多少个节点，包括真实和虚拟\n",
    "station_out['next_sum']=station_out.apply(lambda x:len(x['下站']),axis=1)\n",
    "sum(station_out['next_sum'])+len(station_out)"
   ]
  },
  {
   "cell_type": "code",
   "execution_count": 13,
   "id": "f1a031bd-80cb-4e25-9345-674844d02518",
   "metadata": {},
   "outputs": [
    {
     "name": "stdout",
     "output_type": "stream",
     "text": [
      "         此站     下站    线路 上车数量 此站编号 下站编号 单程终点\n",
      "0       火车站    展览馆     1   17    1    2    1\n",
      "1       展览馆    新路口     1  318    2    3    1\n",
      "2       新路口   邮电大楼     1  510    3    4    1\n",
      "3      邮电大楼    大十字     1  678    4    5    1\n",
      "4       大十字    喷水池     1  598    5    6    1\n",
      "...     ...    ...   ...  ...  ...  ...  ...\n",
      "6475   南垭路口    松花路  4005    2   10    4    0\n",
      "6476    粑粑坳    粑粑坳  4600    2    7    7    1\n",
      "6477  白金大道中    刚玉街  4601    1   14   16    1\n",
      "6478    刚玉街  云环东路口  4601    1   16   18    1\n",
      "6479  云环东路口  白金大道中  4601    1   18   14    1\n",
      "\n",
      "[6480 rows x 7 columns]\n"
     ]
    }
   ],
   "source": [
    "#校验一下看是不是这么多节点\n",
    "print(this_next_line_nums)"
   ]
  },
  {
   "cell_type": "code",
   "execution_count": 81,
   "id": "88a94efa-d0e4-4aa8-85f6-5a0410fcc4dd",
   "metadata": {},
   "outputs": [
    {
     "name": "stdout",
     "output_type": "stream",
     "text": [
      "write done\n",
      "write done\n"
     ]
    }
   ],
   "source": [
    "#存入文件中\n",
    "import json\n",
    "data_json = json.dumps(station_id,ensure_ascii=False)\n",
    "with open('station_to_id.json','w') as file:\n",
    "    file.write(data_json)\n",
    "print('write done')\n",
    "data_json = json.dumps(id_station,ensure_ascii=False)\n",
    "with open('id_to_station.json','w') as file:\n",
    "    file.write(data_json)\n",
    "print('write done')"
   ]
  },
  {
   "cell_type": "code",
   "execution_count": 20,
   "id": "fb23548e-65ec-4eb2-afbf-ed7bdbf6e344",
   "metadata": {},
   "outputs": [],
   "source": [
    "from typing import Dict,List\n",
    "station_connect: Dict[int,List[int]]={}"
   ]
  },
  {
   "cell_type": "code",
   "execution_count": 21,
   "id": "70171034-f63f-40b5-868c-7b3d5664a1a1",
   "metadata": {},
   "outputs": [
    {
     "data": {
      "text/html": [
       "<div>\n",
       "<style scoped>\n",
       "    .dataframe tbody tr th:only-of-type {\n",
       "        vertical-align: middle;\n",
       "    }\n",
       "\n",
       "    .dataframe tbody tr th {\n",
       "        vertical-align: top;\n",
       "    }\n",
       "\n",
       "    .dataframe thead th {\n",
       "        text-align: right;\n",
       "    }\n",
       "</style>\n",
       "<table border=\"1\" class=\"dataframe\">\n",
       "  <thead>\n",
       "    <tr style=\"text-align: right;\">\n",
       "      <th></th>\n",
       "      <th>站点名称</th>\n",
       "      <th>刷卡数量</th>\n",
       "      <th>线路编号</th>\n",
       "    </tr>\n",
       "  </thead>\n",
       "  <tbody>\n",
       "    <tr>\n",
       "      <th>0</th>\n",
       "      <td>(招呼站)</td>\n",
       "      <td>[1, 1, 12]</td>\n",
       "      <td>[226, 226, 228]</td>\n",
       "    </tr>\n",
       "    <tr>\n",
       "      <th>1</th>\n",
       "      <td>113厂小区</td>\n",
       "      <td>[1, 7, 2, 54]</td>\n",
       "      <td>[226, 226, 227, 228]</td>\n",
       "    </tr>\n",
       "    <tr>\n",
       "      <th>2</th>\n",
       "      <td>117地质队</td>\n",
       "      <td>[72, 7, 64, 21, 14, 25, 11, 121, 33, 20]</td>\n",
       "      <td>[56, 56, 234, 234, 246, 246, 252, 253, 253, 258]</td>\n",
       "    </tr>\n",
       "    <tr>\n",
       "      <th>3</th>\n",
       "      <td>501厂宿舍区</td>\n",
       "      <td>[15, 3]</td>\n",
       "      <td>[605, 605]</td>\n",
       "    </tr>\n",
       "    <tr>\n",
       "      <th>4</th>\n",
       "      <td>〇八三厂</td>\n",
       "      <td>[4, 11, 2, 294, 7]</td>\n",
       "      <td>[234, 246, 246, 253, 253]</td>\n",
       "    </tr>\n",
       "  </tbody>\n",
       "</table>\n",
       "</div>"
      ],
      "text/plain": [
       "      站点名称                                      刷卡数量  \\\n",
       "0    (招呼站)                                [1, 1, 12]   \n",
       "1   113厂小区                             [1, 7, 2, 54]   \n",
       "2   117地质队  [72, 7, 64, 21, 14, 25, 11, 121, 33, 20]   \n",
       "3  501厂宿舍区                                   [15, 3]   \n",
       "4     〇八三厂                        [4, 11, 2, 294, 7]   \n",
       "\n",
       "                                               线路编号  \n",
       "0                                   [226, 226, 228]  \n",
       "1                              [226, 226, 227, 228]  \n",
       "2  [56, 56, 234, 234, 246, 246, 252, 253, 253, 258]  \n",
       "3                                        [605, 605]  \n",
       "4                         [234, 246, 246, 253, 253]  "
      ]
     },
     "execution_count": 21,
     "metadata": {},
     "output_type": "execute_result"
    }
   ],
   "source": [
    "#从sheet1中获取一个字典，包含线路，站点顺序，站点名字和刷卡数量这些内容\n",
    "#可以先做一个简单的，就是把各个路段上车的人数统计一下，选出上车人数最多的路段\n",
    "#后面再考虑到旅客的下车情况，按照各路段旅客下车情况来确定路段实际旅客数量。\n",
    "#可以整一个线性传播模型，车上的旅客数量假设有30%会下车，70%会继续坐车。\n",
    "#这样子就会有一个动态图\n",
    "#然后就可以得到各个路段上的客运量，从而对客运供不应求的路段加大公交供给。\n",
    "#按照每天的刷卡量，设计一个动态八小时的刷卡人数，从而形成一个动态图谱。进而可以确定一个交通路网人流量的图谱。\n",
    "#确定每个站点的上车人数，不管去哪个方向的都算这个站点的流量。\n",
    "station_people={}\n",
    "st_peo = sheet1.groupby('站点名称').agg({'刷卡数量':list,'线路编号':list}).reset_index()\n",
    "print(st_peo.head())\n",
    "print(st_peo['刷卡数量'])\n",
    "new=st_peo.apply(lambda x:sum(x[1]),axis=1)"
   ]
  },
  {
   "cell_type": "code",
   "execution_count": null,
   "id": "9fa07352-dec2-4b01-8693-86aa5a5de25f",
   "metadata": {},
   "outputs": [],
   "source": [
    "#从历史数据中抽象出转向概率（在这个站点的游客有多大的可能性坐哪趟车）\n",
    "#要想确定一个动态过程，还需要确定一个离开的概率。\n",
    "#这个从车上离开的概率也是需要确定的，\n",
    "#整个动态过程是这样的，公交车上的人数有进入流和离开流，这些变化都发生在站点，\n",
    "#当车辆抵达一个站点的时候，会有进入流、离开流，从车辆上会有一些人选择下车或者转坐其他车辆。对这辆车来说这是离开流，对其他车来说这是进入流，\n",
    "#当车辆抵达一个站点的时候，会有进入流，除了其他车转进来的，还有自然需求，由外发生的。\n",
    "#我们需要确定的概率是车辆（线路，）抵达站点（站点）有多少人数会选择下车不坐，有多少人会选择转其他线路。\n",
    "#另外一个问题是车辆抵达站点以后，有多少人会上车。\n",
    "leave_prob={}\n",
    "#比如说226线路抵达招呼站以后会有30%的乘客下车不坐，60%乘客继续坐车，10%乘客转坐228号车。\n",
    "乘客数量等于60%*nums+wait_nums*this_prob\n",
    "#在这个站点中等车数量为wait_nums，其中有上车数量比例的人是坐这个车的，所以可以上车。"
   ]
  },
  {
   "cell_type": "code",
   "execution_count": null,
   "id": "0f6cc035-ee9e-4aa3-930b-9e0fccbf17ab",
   "metadata": {},
   "outputs": [],
   "source": [
    "#找到各个站点的刷卡上车的总量，不管去哪条线路，只看站点\n",
    "#上车多的下车也多，下车概率就用上车的人数占剩余总人数的概率。这样的效果就是在各个站下车的概率是不同的，根据站点的特征确定。\n",
    "#至于下车以后是转车还是回家就看这个站点各个线路的刷卡量的比例作为上车率。\n",
    "#我们需要的无非就是站点生成需求的数据和民众下车的数据，这样我们就可以确定各个路段实际的乘客数量，从而找出乘客最多的路段，搭建一个全链接树。\n",
    "#生成一个表：对每条线路在每个站点上的下车概率做个统计。这个是下车的数据。\n",
    "#生成一个表：对每个站点之间的路段，生成一个交通需求，这个是上车的数据。\n",
    "#生成一个表：表示每个路段上车辆上的乘客数量。\n",
    "#生成一个表：表示每个站点的等车数量。\n",
    "#应该还是需要考虑到公交车的实际运行路线比如说什么时候到站这些数据。\n",
    "#车上的剩余人数就是减去下车的，加上上车的那些人数。"
   ]
  },
  {
   "cell_type": "code",
   "execution_count": null,
   "id": "402e385b-340b-425c-88ab-bb1d4f39fb05",
   "metadata": {},
   "outputs": [],
   "source": [
    "#线路站点下车概率表：{线路:{去:{站点: 0.7},回:{站点:0.4}}}\n",
    "#需要知道线路上所有后方站点及对应的乘客数量。\n",
    "#通过迭代的方式来学习出下车的概率。\n",
    "#一个站点的上车刷卡人数，肯定不是无中生有的，是积聚出来的，不同线路经过这个站点都会有下车的人，然后才导致这个站点有这么多人上车\n",
    "#所以这个算法就是：\n",
    "#各个站点的上车数量中有来自于上游线路的比例是跟各个线路的人数有关的。也就是说分配比例为【0.1，0.2，0.3】-【221，222，223】\n",
    "#然后每条线路的下车比例为：【】分配到的下车人数/线路上游总人数。\n",
    "#然后对于各个站点都会有这样的下车概率分配，然后按照这个下车概率，求一个满足这样的全局最小的损失。"
   ]
  },
  {
   "cell_type": "code",
   "execution_count": null,
   "id": "1bed4e69-c534-44a4-8d36-14a26bfe5ee8",
   "metadata": {},
   "outputs": [],
   "source": [
    "#求一个下一站为这个站点的所有线路和上一站\n",
    "此站点：【】，下一站：，线路：，编号：，刷卡数量：，截止单程起点站的累计上车人数：【】，各线路分配的下车人数：【】，各线路的初始下车概率：\n",
    "#有损失函数：\n",
    "#按照初始下车概率我们可以沿着公交线路计算出各个路段的乘客量，然后可以得到在终点站的误差。\n",
    "#然后基于这个误差反向传播，对这个路网中的每一段都设置一个初始下车概率，可能不着边际，但是如果以最后一段的终点站误差作为强化学习的奖励，就可以\n",
    "#上车的概率是好找的。\n",
    "此站点：，下一站点：，线路：，编号：，上车数量：，总数量：，上车概率：\n"
   ]
  },
  {
   "cell_type": "code",
   "execution_count": null,
   "id": "b4a16a6d-6498-455c-8afb-7f1e9f38a7c3",
   "metadata": {},
   "outputs": [],
   "source": [
    "#先从数据中提取出邻接矩阵。\n"
   ]
  },
  {
   "cell_type": "code",
   "execution_count": null,
   "id": "c9d9de7b-b52b-4ac1-a611-020ad11ee745",
   "metadata": {},
   "outputs": [],
   "source": [
    "#对于一个回路来说，要想让刷卡次数不动，至少中间值要大于零，也就是说在中间站点下车人数要大于刷卡上车的人数，否则就会导致一些人需要坐到终点站再重新刷卡回家。"
   ]
  }
 ],
 "metadata": {
  "kernelspec": {
   "display_name": "Python 3 (ipykernel)",
   "language": "python",
   "name": "python3"
  },
  "language_info": {
   "codemirror_mode": {
    "name": "ipython",
    "version": 3
   },
   "file_extension": ".py",
   "mimetype": "text/x-python",
   "name": "python",
   "nbconvert_exporter": "python",
   "pygments_lexer": "ipython3",
   "version": "3.11.5"
  }
 },
 "nbformat": 4,
 "nbformat_minor": 5
}
