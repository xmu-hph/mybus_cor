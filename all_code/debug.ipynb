{
 "cells": [
  {
   "cell_type": "code",
   "execution_count": 1,
   "metadata": {},
   "outputs": [
    {
     "name": "stderr",
     "output_type": "stream",
     "text": [
      "/root/mnt/bus_corr/all_code/timetable.py:144: SettingWithCopyWarning: \n",
      "A value is trying to be set on a copy of a slice from a DataFrame.\n",
      "Try using .loc[row_indexer,col_indexer] = value instead\n",
      "\n",
      "See the caveats in the documentation: https://pandas.pydata.org/pandas-docs/stable/user_guide/indexing.html#returning-a-view-versus-a-copy\n",
      "  trip_1_0929['trip'] = trip_1_0929.\\\n",
      "/root/mnt/bus_corr/all_code/timetable.py:162: SettingWithCopyWarning: \n",
      "A value is trying to be set on a copy of a slice from a DataFrame\n",
      "\n",
      "See the caveats in the documentation: https://pandas.pydata.org/pandas-docs/stable/user_guide/indexing.html#returning-a-view-versus-a-copy\n",
      "  temp1.rename(columns = transfer,inplace=True)\n",
      "/root/mnt/bus_corr/all_code/timetable.py:163: SettingWithCopyWarning: \n",
      "A value is trying to be set on a copy of a slice from a DataFrame\n",
      "\n",
      "See the caveats in the documentation: https://pandas.pydata.org/pandas-docs/stable/user_guide/indexing.html#returning-a-view-versus-a-copy\n",
      "  temp2.rename(columns = transfer,inplace=True)\n",
      "\u001b[32m2024-06-18 08:25:45.729\u001b[0m | \u001b[1mINFO    \u001b[0m | \u001b[36mtimetable\u001b[0m:\u001b[36m__init__\u001b[0m:\u001b[36m28\u001b[0m - \u001b[1mtimetable process time:274.3118476867676\u001b[0m\n",
      "/root/mnt/bus_corr/all_code/passenger.py:131: SettingWithCopyWarning: \n",
      "A value is trying to be set on a copy of a slice from a DataFrame.\n",
      "Try using .loc[row_indexer,col_indexer] = value instead\n",
      "\n",
      "See the caveats in the documentation: https://pandas.pydata.org/pandas-docs/stable/user_guide/indexing.html#returning-a-view-versus-a-copy\n",
      "  day_0929_dataframe['this_od_trip_start_station'] = day_0929_dataframe.apply(lambda x: self.get_station_id(x['line_identity'],x['station_identity']),axis=1)\n",
      "\u001b[32m2024-06-18 08:26:25.651\u001b[0m | \u001b[1mINFO    \u001b[0m | \u001b[36mpassenger\u001b[0m:\u001b[36m__init__\u001b[0m:\u001b[36m38\u001b[0m - \u001b[1mprocess time:39.91991448402405\u001b[0m\n"
     ]
    }
   ],
   "source": [
    "from timetable import timetable\n",
    "from passenger import simu\n",
    "import sys\n",
    "sys.argv = ['debug.ipynb', \n",
    "            '--card_data_path', '../card_info.csv', \n",
    "            '--bus_data_path', '../公交数据.xlsx',\n",
    "            '--road_line_station_setting_path', '../datas/road_line_station_structure_setting.json',\n",
    "            '--station_distance_rank_path', '../datas/station_pair_distance_rank_index.csv',\n",
    "            '--id_2_station_path', '../datas/id_2_station.json',\n",
    "            '--station_2_id_path', '../datas/station_2_id.json']\n",
    "import argparse\n",
    "parser = argparse.ArgumentParser()\n",
    "parser.add_argument('--card_data_path',default='./card_info.csv')\n",
    "parser.add_argument('--bus_data_path',default= './公交数据.xlsx')\n",
    "parser.add_argument('--road_line_station_setting_path',default= './datas/road_line_station_structure_setting.json')\n",
    "parser.add_argument('--station_distance_rank_path',default= './datas/station_pair_distance_rank_index.csv')\n",
    "parser.add_argument('--id_2_station_path',default= './datas/id_2_station.json')\n",
    "parser.add_argument('--station_2_id_path',default= './datas/station_2_id.json')\n",
    "myargs = parser.parse_args()\n",
    "mytime_table = timetable(\\\n",
    "    card_data_path = myargs.card_data_path,\\\n",
    "    bus_data_path = myargs.bus_data_path,\\\n",
    "    road_line_station_setting_path = myargs.road_line_station_setting_path,\\\n",
    "    station_distance_rank_path = myargs.station_distance_rank_path,\\\n",
    "    id_2_station_path = myargs.id_2_station_path,\\\n",
    "    station_2_id_path = myargs.station_2_id_path)\n",
    "this_simu = simu(\\\n",
    "    mytime_table,\\\n",
    "    card_data_path = myargs.card_data_path,\\\n",
    "    bus_data_path = myargs.bus_data_path,\\\n",
    "    road_line_station_setting_path = myargs.road_line_station_setting_path,\\\n",
    "    station_distance_rank_path = myargs.station_distance_rank_path,\\\n",
    "    id_2_station_path = myargs.id_2_station_path,\\\n",
    "    station_2_id_path = myargs.station_2_id_path,\\\n",
    "    time_accurate = 8,\\\n",
    "    start_hour = 8,\\\n",
    "    start_minute = 23)"
   ]
  },
  {
   "cell_type": "code",
   "execution_count": 2,
   "metadata": {},
   "outputs": [],
   "source": [
    "import pandas as pd\n",
    "this_simu.now_minute += 1\n",
    "if this_simu.now_minute == 60:\n",
    "    this_simu.now_minute = 0\n",
    "    this_simu.now_hour += 1\n",
    "if this_simu.now_hour == 24:\n",
    "    this_simu.now_hour = 0\n",
    "station_id_list = list(this_simu.id_2_station.keys())\n",
    "now_conditions_df=pd.DataFrame({'this_od_trip_start_station':station_id_list,\\\n",
    "                                        'hour':[this_simu.now_hour]*len(station_id_list),\\\n",
    "                                        'minute_group':[this_simu.now_minute//this_simu.time_accurate]*len(station_id_list)})"
   ]
  },
  {
   "cell_type": "code",
   "execution_count": 3,
   "metadata": {},
   "outputs": [
    {
     "name": "stderr",
     "output_type": "stream",
     "text": [
      "/tmp/ipykernel_19929/2998417739.py:4: FutureWarning: Downcasting object dtype arrays on .fillna, .ffill, .bfill is deprecated and will change in a future version. Call result.infer_objects(copy=False) instead. To opt-in to the future behavior, set `pd.set_option('future.no_silent_downcasting', True)`\n",
      "  right_on = ['global_station_id','hour','minute_group'], how='left').fillna(0)\n"
     ]
    }
   ],
   "source": [
    "now_user_all_possible_route_df = now_conditions_df.merge(\\\n",
    "            this_simu.different_time_user_produce, \\\n",
    "            left_on=['this_od_trip_start_station', 'hour', 'minute_group'],\\\n",
    "            right_on = ['global_station_id','hour','minute_group'], how='left').fillna(0)"
   ]
  },
  {
   "cell_type": "code",
   "execution_count": 4,
   "metadata": {},
   "outputs": [
    {
     "data": {
      "text/html": [
       "<div>\n",
       "<style scoped>\n",
       "    .dataframe tbody tr th:only-of-type {\n",
       "        vertical-align: middle;\n",
       "    }\n",
       "\n",
       "    .dataframe tbody tr th {\n",
       "        vertical-align: top;\n",
       "    }\n",
       "\n",
       "    .dataframe thead th {\n",
       "        text-align: right;\n",
       "    }\n",
       "</style>\n",
       "<table border=\"1\" class=\"dataframe\">\n",
       "  <thead>\n",
       "    <tr style=\"text-align: right;\">\n",
       "      <th></th>\n",
       "      <th>this_od_trip_start_station</th>\n",
       "      <th>hour</th>\n",
       "      <th>minute_group</th>\n",
       "      <th>count</th>\n",
       "    </tr>\n",
       "  </thead>\n",
       "  <tbody>\n",
       "    <tr>\n",
       "      <th>0</th>\n",
       "      <td>0</td>\n",
       "      <td>5</td>\n",
       "      <td>0</td>\n",
       "      <td>0</td>\n",
       "    </tr>\n",
       "    <tr>\n",
       "      <th>1</th>\n",
       "      <td>0</td>\n",
       "      <td>5</td>\n",
       "      <td>1</td>\n",
       "      <td>0</td>\n",
       "    </tr>\n",
       "    <tr>\n",
       "      <th>2</th>\n",
       "      <td>0</td>\n",
       "      <td>5</td>\n",
       "      <td>2</td>\n",
       "      <td>0</td>\n",
       "    </tr>\n",
       "    <tr>\n",
       "      <th>3</th>\n",
       "      <td>0</td>\n",
       "      <td>5</td>\n",
       "      <td>3</td>\n",
       "      <td>0</td>\n",
       "    </tr>\n",
       "    <tr>\n",
       "      <th>4</th>\n",
       "      <td>0</td>\n",
       "      <td>5</td>\n",
       "      <td>4</td>\n",
       "      <td>0</td>\n",
       "    </tr>\n",
       "    <tr>\n",
       "      <th>...</th>\n",
       "      <td>...</td>\n",
       "      <td>...</td>\n",
       "      <td>...</td>\n",
       "      <td>...</td>\n",
       "    </tr>\n",
       "    <tr>\n",
       "      <th>177531</th>\n",
       "      <td>1448</td>\n",
       "      <td>23</td>\n",
       "      <td>3</td>\n",
       "      <td>0</td>\n",
       "    </tr>\n",
       "    <tr>\n",
       "      <th>177532</th>\n",
       "      <td>1448</td>\n",
       "      <td>23</td>\n",
       "      <td>4</td>\n",
       "      <td>0</td>\n",
       "    </tr>\n",
       "    <tr>\n",
       "      <th>177533</th>\n",
       "      <td>1448</td>\n",
       "      <td>23</td>\n",
       "      <td>5</td>\n",
       "      <td>0</td>\n",
       "    </tr>\n",
       "    <tr>\n",
       "      <th>177534</th>\n",
       "      <td>1448</td>\n",
       "      <td>23</td>\n",
       "      <td>6</td>\n",
       "      <td>0</td>\n",
       "    </tr>\n",
       "    <tr>\n",
       "      <th>177535</th>\n",
       "      <td>1448</td>\n",
       "      <td>23</td>\n",
       "      <td>7</td>\n",
       "      <td>0</td>\n",
       "    </tr>\n",
       "  </tbody>\n",
       "</table>\n",
       "<p>177536 rows × 4 columns</p>\n",
       "</div>"
      ],
      "text/plain": [
       "        this_od_trip_start_station  hour minute_group  count\n",
       "0                                0     5            0      0\n",
       "1                                0     5            1      0\n",
       "2                                0     5            2      0\n",
       "3                                0     5            3      0\n",
       "4                                0     5            4      0\n",
       "...                            ...   ...          ...    ...\n",
       "177531                        1448    23            3      0\n",
       "177532                        1448    23            4      0\n",
       "177533                        1448    23            5      0\n",
       "177534                        1448    23            6      0\n",
       "177535                        1448    23            7      0\n",
       "\n",
       "[177536 rows x 4 columns]"
      ]
     },
     "execution_count": 4,
     "metadata": {},
     "output_type": "execute_result"
    }
   ],
   "source": [
    "this_simu.different_time_user_produce_nums"
   ]
  },
  {
   "cell_type": "code",
   "execution_count": 5,
   "metadata": {},
   "outputs": [
    {
     "name": "stderr",
     "output_type": "stream",
     "text": [
      "/tmp/ipykernel_19929/3131170115.py:5: FutureWarning: Downcasting object dtype arrays on .fillna, .ffill, .bfill is deprecated and will change in a future version. Call result.infer_objects(copy=False) instead. To opt-in to the future behavior, set `pd.set_option('future.no_silent_downcasting', True)`\n",
      "  how='left').fillna(0)\n"
     ]
    }
   ],
   "source": [
    "now_station_routes_and_nums = \\\n",
    "                    now_user_all_possible_route_df.merge(this_simu.different_time_user_produce_nums,\\\n",
    "                                     left_on=['this_od_trip_start_station', 'hour', 'minute_group'],\\\n",
    "                                     right_on = ['this_od_trip_start_station', 'hour', 'minute_group'],\\\n",
    "                                     how='left').fillna(0)"
   ]
  },
  {
   "cell_type": "code",
   "execution_count": 18,
   "metadata": {},
   "outputs": [],
   "source": [
    "import random\n",
    "import numpy as np\n",
    "def uniform_sample(x,time_accurate):\n",
    "    if x['length']!=0:\n",
    "        #平均流量\n",
    "        average_nums = int(x['count'])/time_accurate\n",
    "        actual_nums = np.random.poisson(average_nums)\n",
    "        return random.choices(x['od_trip'],k=actual_nums)\n",
    "    else:\n",
    "        return []"
   ]
  },
  {
   "cell_type": "code",
   "execution_count": 20,
   "metadata": {},
   "outputs": [],
   "source": [
    "now_station_routes_and_nums['users'] = now_station_routes_and_nums.apply(lambda x:uniform_sample(x,this_simu.time_accurate),axis=1)"
   ]
  },
  {
   "cell_type": "code",
   "execution_count": 21,
   "metadata": {},
   "outputs": [],
   "source": [
    "now_passengers = []\n",
    "for row_index in range(len(now_station_routes_and_nums)):\n",
    "    if len(now_station_routes_and_nums[row_index:row_index+1]['users'].values[0])!=0:\n",
    "        #print(merged_df[row_index:row_index+1]['users'].values[0])\n",
    "        start_station = now_station_routes_and_nums[row_index:row_index+1]['this_od_trip_start_station'].values[0]\n",
    "        start_time = str(this_simu.now_hour)+':'+str(this_simu.now_minute)+':00'\n",
    "        start_time = pd.to_datetime(start_time, format='%H:%M:%S', errors='coerce').time()\n",
    "        #start_time = now_station_routes_and_nums[row_index:row_index+1]['minute_group'].values[0]\n",
    "        for user_instance in now_station_routes_and_nums[row_index:row_index+1]['users'].values[0]:\n",
    "            now_passengers.append({\\\n",
    "                        'start_station':user_instance['start_station'],\\\n",
    "                        'start_time':start_time,\\\n",
    "                        'target_station':user_instance['end_station'],\\\n",
    "                        'target_line':user_instance['this_line']})\n",
    "        #根据时间表为每个乘客添加时间表"
   ]
  },
  {
   "cell_type": "code",
   "execution_count": 27,
   "metadata": {},
   "outputs": [],
   "source": [
    "for user in now_passengers:\n",
    "    if user['start_station'] < user['target_station'] and this_simu.time_schedule.time_table[user['target_line']] is not None:\n",
    "        time_df = this_simu.time_schedule.time_table[user['target_line']]\n",
    "        time_df_column = time_df.loc[:,str(user['start_station'])]\n",
    "        row_index = time_df_column[time_df_column>=user['start_time']].index.min()\n",
    "        column_index = time_df.columns.get_loc(str(user['start_station']))\n",
    "        user['time_table'] = time_df.iloc[row_index,column_index:]\n",
    "        this_simu.total_passengers.append(user)\n",
    "    else:\n",
    "        continue"
   ]
  },
  {
   "cell_type": "code",
   "execution_count": null,
   "metadata": {},
   "outputs": [],
   "source": [
    "now_time = str(this_simu.now_hour)+':'+str(this_simu.now_minute)+':00'\n",
    "now_time = pd.to_datetime(now_time, format='%H:%M:%S', errors='coerce').dt.time\n",
    "road_section_people_nums = defaultdict(int)\n",
    "for user in this_simu.total_passengers:\n",
    "    if user['time_table'].iloc[-1]<now_time:\n",
    "        continue\n",
    "    else:\n",
    "        column_index = user['time_table'][user['time_table']<=now_time].index.max()\n",
    "        #根据当前线路和站点编号来确定路段。\n",
    "        this_line = user['target_line']\n",
    "        start_station = this_simu.road_line_station_structure_setting['this_line']['stations'][column_index]\n",
    "        end_station = this_simu.road_line_station_structure_setting['this_line']['stations'][column_index+1]\n",
    "        road_section = f\"{this_simu.station_2_id[start_station]}_{this_simu.station_2_id[end_station]}\"\n",
    "        road_section_people_nums[road_section] +=1\n",
    "this_simu.road_section_people_nums = road_section_people_nums"
   ]
  },
  {
   "cell_type": "code",
   "execution_count": null,
   "metadata": {},
   "outputs": [],
   "source": [
    "#this_simu.step()\n",
    "this_simu.observe()"
   ]
  }
 ],
 "metadata": {
  "kernelspec": {
   "display_name": "Python 3",
   "language": "python",
   "name": "python3"
  },
  "language_info": {
   "codemirror_mode": {
    "name": "ipython",
    "version": 3
   },
   "file_extension": ".py",
   "mimetype": "text/x-python",
   "name": "python",
   "nbconvert_exporter": "python",
   "pygments_lexer": "ipython3",
   "version": "3.10.12"
  }
 },
 "nbformat": 4,
 "nbformat_minor": 2
}
