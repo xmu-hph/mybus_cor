{
 "cells": [
  {
   "cell_type": "code",
   "execution_count": 1,
   "metadata": {},
   "outputs": [
    {
     "name": "stderr",
     "output_type": "stream",
     "text": [
      "/root/mnt/bus_corr/all_code/timetable.py:144: SettingWithCopyWarning: \n",
      "A value is trying to be set on a copy of a slice from a DataFrame.\n",
      "Try using .loc[row_indexer,col_indexer] = value instead\n",
      "\n",
      "See the caveats in the documentation: https://pandas.pydata.org/pandas-docs/stable/user_guide/indexing.html#returning-a-view-versus-a-copy\n",
      "  trip_1_0929['trip'] = trip_1_0929.\\\n",
      "/root/mnt/bus_corr/all_code/timetable.py:162: SettingWithCopyWarning: \n",
      "A value is trying to be set on a copy of a slice from a DataFrame\n",
      "\n",
      "See the caveats in the documentation: https://pandas.pydata.org/pandas-docs/stable/user_guide/indexing.html#returning-a-view-versus-a-copy\n",
      "  temp1.rename(columns = transfer,inplace=True)\n",
      "/root/mnt/bus_corr/all_code/timetable.py:163: SettingWithCopyWarning: \n",
      "A value is trying to be set on a copy of a slice from a DataFrame\n",
      "\n",
      "See the caveats in the documentation: https://pandas.pydata.org/pandas-docs/stable/user_guide/indexing.html#returning-a-view-versus-a-copy\n",
      "  temp2.rename(columns = transfer,inplace=True)\n",
      "\u001b[32m2024-06-18 08:15:16.545\u001b[0m | \u001b[1mINFO    \u001b[0m | \u001b[36mtimetable\u001b[0m:\u001b[36m__init__\u001b[0m:\u001b[36m28\u001b[0m - \u001b[1mtimetable process time:267.30370831489563\u001b[0m\n",
      "/root/mnt/bus_corr/all_code/passenger.py:131: SettingWithCopyWarning: \n",
      "A value is trying to be set on a copy of a slice from a DataFrame.\n",
      "Try using .loc[row_indexer,col_indexer] = value instead\n",
      "\n",
      "See the caveats in the documentation: https://pandas.pydata.org/pandas-docs/stable/user_guide/indexing.html#returning-a-view-versus-a-copy\n",
      "  day_0929_dataframe['this_od_trip_start_station'] = day_0929_dataframe.apply(lambda x: this_simu.get_station_id(x['line_identity'],x['station_identity']),axis=1)\n",
      "\u001b[32m2024-06-18 08:15:55.811\u001b[0m | \u001b[1mINFO    \u001b[0m | \u001b[36mpassenger\u001b[0m:\u001b[36m__init__\u001b[0m:\u001b[36m38\u001b[0m - \u001b[1mprocess time:39.26468896865845\u001b[0m\n"
     ]
    }
   ],
   "source": [
    "from timetable import timetable\n",
    "from passenger import simu\n",
    "import sys\n",
    "sys.argv = ['debug.ipynb', \n",
    "            '--card_data_path', '../card_info.csv', \n",
    "            '--bus_data_path', '../公交数据.xlsx',\n",
    "            '--road_line_station_setting_path', '../datas/road_line_station_structure_setting.json',\n",
    "            '--station_distance_rank_path', '../datas/station_pair_distance_rank_index.csv',\n",
    "            '--id_2_station_path', '../datas/id_2_station.json',\n",
    "            '--station_2_id_path', '../datas/station_2_id.json']\n",
    "import argparse\n",
    "parser = argparse.ArgumentParser()\n",
    "parser.add_argument('--card_data_path',default='./card_info.csv')\n",
    "parser.add_argument('--bus_data_path',default= './公交数据.xlsx')\n",
    "parser.add_argument('--road_line_station_setting_path',default= './datas/road_line_station_structure_setting.json')\n",
    "parser.add_argument('--station_distance_rank_path',default= './datas/station_pair_distance_rank_index.csv')\n",
    "parser.add_argument('--id_2_station_path',default= './datas/id_2_station.json')\n",
    "parser.add_argument('--station_2_id_path',default= './datas/station_2_id.json')\n",
    "myargs = parser.parse_args()\n",
    "mytime_table = timetable(\\\n",
    "    card_data_path = myargs.card_data_path,\\\n",
    "    bus_data_path = myargs.bus_data_path,\\\n",
    "    road_line_station_setting_path = myargs.road_line_station_setting_path,\\\n",
    "    station_distance_rank_path = myargs.station_distance_rank_path,\\\n",
    "    id_2_station_path = myargs.id_2_station_path,\\\n",
    "    station_2_id_path = myargs.station_2_id_path)\n",
    "this_simu = simu(\\\n",
    "    mytime_table,\\\n",
    "    card_data_path = myargs.card_data_path,\\\n",
    "    bus_data_path = myargs.bus_data_path,\\\n",
    "    road_line_station_setting_path = myargs.road_line_station_setting_path,\\\n",
    "    station_distance_rank_path = myargs.station_distance_rank_path,\\\n",
    "    id_2_station_path = myargs.id_2_station_path,\\\n",
    "    station_2_id_path = myargs.station_2_id_path,\\\n",
    "    time_accurate = 8,\\\n",
    "    start_hour = 8,\\\n",
    "    start_minute = 23)"
   ]
  },
  {
   "cell_type": "code",
   "execution_count": null,
   "metadata": {},
   "outputs": [],
   "source": [
    "this_simu."
   ]
  },
  {
   "cell_type": "code",
   "execution_count": null,
   "metadata": {},
   "outputs": [],
   "source": [
    "this_simu.now_minute += 1\n",
    "if this_simu.now_minute == 60:\n",
    "    this_simu.now_minute = 0\n",
    "    this_simu.now_hour += 1\n",
    "if this_simu.now_hour == 24:\n",
    "    this_simu.now_hour = 0\n",
    "station_id_list = list(this_simu.id_2_station.keys())\n",
    "now_conditions_df=pd.DataFrame({'this_od_trip_start_station':station_id_list,\\\n",
    "                                        'hour':[this_simu.now_hour]*len(station_id_list),\\\n",
    "                                        'minute_group':[this_simu.now_minute//this_simu.time_accurate]*len(station_id_list)})\n",
    "now_user_all_possible_route_df = now_conditions_df.merge(\\\n",
    "            this_simu.different_time_user_produce, \\\n",
    "            left_on=['this_od_trip_start_station', 'hour', 'minute_group'],\\\n",
    "            right_on = ['global_station_id','hour','minute_group'], how='left').fillna(0)\n",
    "        #now_user_all_possible_route_df['zip_target_station_line'] = now_user_all_possible_route_df.apply(lambda x:zip_target_station_line_func(x),axis=1)\n",
    "now_station_routes_and_nums = \\\n",
    "                    now_user_all_possible_route_df.merge(this_simu.different_time_user_produce_nums,\\\n",
    "                                     left_on=['this_od_trip_start_station', 'hour', 'minute_group'],\\\n",
    "                                     right_on = ['this_od_trip_start_station', 'hour', 'minute_group'],\\\n",
    "                                     how='left').fillna(0)\n",
    "now_station_routes_and_nums['users'] = now_station_routes_and_nums.apply(lambda x:uniform_sample(x),axis=1)\n",
    "now_passengers = []\n",
    "for row_index in range(len(now_station_routes_and_nums)):\n",
    "    if len(now_station_routes_and_nums[row_index:row_index+1]['users'].values[0])!=0:\n",
    "        #print(merged_df[row_index:row_index+1]['users'].values[0])\n",
    "        start_station = now_station_routes_and_nums[row_index:row_index+1]['this_od_trip_start_station'].values[0]\n",
    "        start_time = str(this_simu.now_hour)+':'+str(this_simu.now_minute)+':00'\n",
    "        start_time = pd.to_datetime(start_time, format='%H:%M:%S', errors='coerce').dt.time\n",
    "        #start_time = now_station_routes_and_nums[row_index:row_index+1]['minute_group'].values[0]\n",
    "        for user_instance in now_station_routes_and_nums[row_index:row_index+1]['users'].values[0]:\n",
    "            now_passengers.append({\\\n",
    "                        'start_station':user_instance['this_od_trip_start_station'],\\\n",
    "                        'start_time':start_time,\\\n",
    "                        'target_station':user_instance['this_od_end_station'],\\\n",
    "                        'target_line':user_instance['this_od_by_line']})\n",
    "        #根据时间表为每个乘客添加时间表\n",
    "for user in now_passengers:\n",
    "    if user['start_station'] < user['target_station'] and this_simu.time_schedule.time_table[user['target_line']]:\n",
    "        time_df = this_simu.time_schedule.time_table[user['target_line']]\n",
    "        time_df_column = time_df.loc[:,user['start_station']]\n",
    "        row_index = time_df_column[time_df_column>=user['start_time']].index.max()\n",
    "        column_index = time_df.columns.get_loc(user['start_station'])\n",
    "        user['time_table'] = time_df.iloc[row_index,column_index:]\n",
    "        this_simu.total_passengers.append(user)\n",
    "    else:\n",
    "        continue"
   ]
  },
  {
   "cell_type": "code",
   "execution_count": null,
   "metadata": {},
   "outputs": [],
   "source": [
    "this_simu.step()\n",
    "this_simu.observe()"
   ]
  }
 ],
 "metadata": {
  "kernelspec": {
   "display_name": "Python 3",
   "language": "python",
   "name": "python3"
  },
  "language_info": {
   "codemirror_mode": {
    "name": "ipython",
    "version": 3
   },
   "file_extension": ".py",
   "mimetype": "text/x-python",
   "name": "python",
   "nbconvert_exporter": "python",
   "pygments_lexer": "ipython3",
   "version": "3.10.12"
  }
 },
 "nbformat": 4,
 "nbformat_minor": 2
}
