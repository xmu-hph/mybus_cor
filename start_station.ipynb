{
 "cells": [
  {
   "cell_type": "code",
   "execution_count": null,
   "id": "d91af7f7-369c-496e-8729-cbb5a9075124",
   "metadata": {},
   "outputs": [],
   "source": [
    "import pandas as pd\n",
    "import numpy as np\n",
    "import json\n",
    "import csv\n",
    "#1.确定这几个数据都是干什么的\n",
    "swiping_card_dataframe = pd.read_csv('./bus_swiping_card_info1.csv')\n",
    "card_info_dataframe = pd.read_csv('./card_info.csv')\n",
    "bus_swip_dataframe = pd.read_excel('公交数据.xlsx',sheet_name='刷卡数据',header=0,engine='openpyxl')\n",
    "bus_station_dataframe = pd.read_excel('公交数据.xlsx',sheet_name='站点数据',header=0,engine='openpyxl')\n",
    "#swiping_card_dataframe ： 每次刷卡的信息：几号线，第几站，车辆的id，刷卡的id，刷卡的时间\n",
    "#card_info_dataframe ： 每次刷卡的信息：几号线，第几站，车辆的id，刷卡的id，刷卡的时间也是上面的信息，但是时间是去年的。\n",
    "#用去年的时间的同比数据，去预测今年的同比数据，看是否一致，如果一致，说明经济发展没有变化，如果变大，说明经济好转\n",
    "#bus_swip_dataframe ：一天的统计信息：各条线路、各个站点的刷卡数量信息\n",
    "#bus_station_dataframe ： 站点的统计信息：各个站点的经纬度\n",
    "line_station_number_sequen_dataframe = \\\n",
    "bus_station_dataframe.groupby(['line_identity','station_number']).agg({'station_name':list,'station_identity':list}).reset_index()\n",
    "line_station_number_sequen_dataframe['length'] = line_station_number_sequen_dataframe['station_identity'].apply(lambda x:len(x))\n",
    "line_station_number_sequen_dataframe"
   ]
  },
  {
   "cell_type": "code",
   "execution_count": null,
   "id": "115213f6-9c80-4182-bfc1-d1a62d09dbbd",
   "metadata": {},
   "outputs": [],
   "source": [
    "line_station_number_sequen_dataframe['id_station'] = \\\n",
    "line_station_number_sequen_dataframe.apply(lambda x:list(zip(x['station_identity'],x['station_name'])),axis=1)\n",
    "line_station_number_sequen_dataframe\n",
    "#构建一个字典：\n",
    "#road_structure = {line_id:{'stations_nums':int,'stations':{station_id:station_name},'all_stations':[]}}\n",
    "road_line_station_structure_setting={}\n",
    "for row_index in range(len(line_station_number_sequen_dataframe)):\n",
    "    line_id = line_station_number_sequen_dataframe[row_index:row_index+1]['line_identity'].values[0]\n",
    "    stations_nums = line_station_number_sequen_dataframe[row_index:row_index+1]['station_number'].values[0]\n",
    "    all_stations = line_station_number_sequen_dataframe[row_index:row_index+1]['station_name'].values[0]\n",
    "    stations={}\n",
    "    for instance in line_station_number_sequen_dataframe[row_index:row_index+1]['id_station'].values[0]:\n",
    "        instance_id = instance[0]\n",
    "        instance_name = instance[1]\n",
    "        stations[instance_id]=instance_name\n",
    "    road_line = {'stations_nums':stations_nums,'stations':stations,'all_stations':all_stations}\n",
    "    road_line_station_structure_setting[line_id] = road_line    \n",
    "road_line_station_structure_setting  "
   ]
  },
  {
   "cell_type": "code",
   "execution_count": null,
   "id": "bde00bfc-b52b-4f76-9b20-7d76121af2cf",
   "metadata": {},
   "outputs": [],
   "source": [
    "station_distance_rank_index_list = np.loadtxt('./station_pair_distance_rank_index.csv',delimiter=',',dtype=int)\n",
    "# 从文件中读取字典\n",
    "with open('./id_2_station.json', 'r') as file:\n",
    "    id_2_station = json.load(file)\n",
    "# 将字典保存到文件中\n",
    "with open('./station_2_id.json', 'r') as file:\n",
    "    station_2_id = json.load(file)\n",
    "#从card_info_dataframe中找出所有用户一天内的od对信息\n",
    "card_info_dataframe['custom_day'] = card_info_dataframe['custom_time'].apply(lambda x:x.split(' ')[0])\n",
    "card_info_dataframe['custom_precise_time'] = card_info_dataframe['custom_time'].apply(lambda x:x.split(' ')[1])\n",
    "#sum(card_info_dataframe['partitionday']==card_info_dataframe['custom_day'])\n",
    "#card_info_dataframe\n",
    "card_info_dataframe.drop(labels=['custom_time','card_type','consume','data_src','data_load_time','partitionday'],axis=1,inplace=True)\n",
    "card_info_dataframe"
   ]
  },
  {
   "cell_type": "code",
   "execution_count": null,
   "id": "578483ce-8646-4e88-b250-3d7d8004dd42",
   "metadata": {},
   "outputs": [],
   "source": [
    "day_0929_dataframe = card_info_dataframe[card_info_dataframe['custom_day']=='2023-09-29']\n",
    "day_0929_dataframe"
   ]
  },
  {
   "cell_type": "markdown",
   "id": "7958a829-cd6f-4503-8050-2d1b8216c13f",
   "metadata": {},
   "source": [
    "# 各个站点为起点站的数量"
   ]
  },
  {
   "cell_type": "code",
   "execution_count": null,
   "id": "ee527143-1104-42c6-be25-e523da7bb3b3",
   "metadata": {},
   "outputs": [],
   "source": [
    "#以各个站为起点的刷卡数量统计\n",
    "day_0929_dataframe_groupby_card_id=day_0929_dataframe.groupby('card_identity'). \\\n",
    "agg({'station_id':list,'custom_precise_time':list,'line_identity':list}).reset_index()\n",
    "day_0929_dataframe_groupby_card_id\n",
    "day_0929_dataframe_groupby_card_id['station_time'] = \\\n",
    "day_0929_dataframe_groupby_card_id.apply(lambda x: \\\n",
    "                                        list(zip(x['station_id'],x['custom_precise_time'])),axis=1)\n",
    "day_0929_dataframe_groupby_card_id\n",
    "def early(x):\n",
    "    sorted_x = sorted(x,key=lambda t:t[1],reverse=False)\n",
    "    return sorted_x[0]\n",
    "day_0929_dataframe_groupby_card_id['station_time']= \\\n",
    "day_0929_dataframe_groupby_card_id['station_time'].apply(lambda x:early(x))\n",
    "day_0929_dataframe_groupby_card_id\n",
    "day_0929_dataframe_groupby_card_id['first_station']=day_0929_dataframe_groupby_card_id['station_time'].apply(lambda x:x[0])\n",
    "day_0929_dataframe_groupby_card_id\n",
    "day_0929_dataframe_groupby_card_id_first_station = \\\n",
    "day_0929_dataframe_groupby_card_id.groupby('first_station').agg({'card_identity':list}).reset_index()\n",
    "day_0929_dataframe_groupby_card_id_first_station\n",
    "day_0929_dataframe_groupby_card_id_first_station['nums']= \\\n",
    "day_0929_dataframe_groupby_card_id_first_station.apply(lambda x:len(x['card_identity']),axis=1)\n",
    "day_0929_dataframe_groupby_card_id_first_station"
   ]
  },
  {
   "cell_type": "code",
   "execution_count": null,
   "id": "eda79ee8-cc73-4d8d-8c23-0f993319ded7",
   "metadata": {},
   "outputs": [],
   "source": [
    "day_0929_dataframe_groupby_card_id_first_station_swip_times = list(zip(day_0929_dataframe_groupby_card_id_first_station['first_station'], \\\n",
    "         day_0929_dataframe_groupby_card_id_first_station['nums']))\n",
    "day_0929_dataframe_groupby_card_id_first_station_swip_times\n",
    "sorted_day_0929_dataframe_groupby_card_id_first_station_swip_times= \\\n",
    "sorted(day_0929_dataframe_groupby_card_id_first_station_swip_times,key=lambda x:x[1],reverse=True)\n",
    "sorted_day_0929_dataframe_groupby_card_id_first_station_swip_times"
   ]
  },
  {
   "cell_type": "code",
   "execution_count": null,
   "id": "460bb609-5312-49ee-bd6f-62b622a664c0",
   "metadata": {},
   "outputs": [],
   "source": [
    "first_time_stations=[]\n",
    "for i in range(1,5):\n",
    "    temp={'station':id_2_station[str(sorted_day_0929_dataframe_groupby_card_id_first_station_swip_times[i][0])], \\\n",
    "          'nums':sorted_day_0929_dataframe_groupby_card_id_first_station_swip_times[i][1]}\n",
    "    first_time_stations.append(temp)\n",
    "print(first_time_stations)"
   ]
  }
 ],
 "metadata": {
  "kernelspec": {
   "display_name": "Python 3 (ipykernel)",
   "language": "python",
   "name": "python3"
  },
  "language_info": {
   "codemirror_mode": {
    "name": "ipython",
    "version": 3
   },
   "file_extension": ".py",
   "mimetype": "text/x-python",
   "name": "python",
   "nbconvert_exporter": "python",
   "pygments_lexer": "ipython3",
   "version": "3.11.5"
  }
 },
 "nbformat": 4,
 "nbformat_minor": 5
}
